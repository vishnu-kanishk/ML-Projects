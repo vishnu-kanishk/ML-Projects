{
 "cells": [
  {
   "cell_type": "code",
   "execution_count": 1,
   "id": "b23d86a5",
   "metadata": {},
   "outputs": [
    {
     "name": "stderr",
     "output_type": "stream",
     "text": [
      "C:\\Users\\Sona\\anaconda3\\lib\\site-packages\\scipy\\__init__.py:146: UserWarning: A NumPy version >=1.16.5 and <1.23.0 is required for this version of SciPy (detected version 1.26.1\n",
      "  warnings.warn(f\"A NumPy version >={np_minversion} and <{np_maxversion}\"\n"
     ]
    }
   ],
   "source": [
    "import numpy as np\n",
    "from numpy import random\n",
    "import pandas as pd\n",
    "import seaborn as sns\n",
    "import math\n",
    "import matplotlib.pyplot as plt"
   ]
  },
  {
   "cell_type": "code",
   "execution_count": 22,
   "id": "9f1d397b",
   "metadata": {},
   "outputs": [
    {
     "name": "stdout",
     "output_type": "stream",
     "text": [
      "Requirement already satisfied: numpy in c:\\users\\sona\\anaconda3\\lib\\site-packages (1.26.1)\n",
      "Note: you may need to restart the kernel to use updated packages.\n"
     ]
    },
    {
     "name": "stderr",
     "output_type": "stream",
     "text": [
      "DEPRECATION: pyodbc 4.0.0-unsupported has a non-standard version number. pip 24.0 will enforce this behaviour change. A possible replacement is to upgrade to a newer version of pyodbc or contact the author to suggest that they release a version with a conforming version number. Discussion can be found at https://github.com/pypa/pip/issues/12063\n"
     ]
    }
   ],
   "source": [
    "pip install numpy"
   ]
  },
  {
   "cell_type": "code",
   "execution_count": 2,
   "id": "b8f0f862",
   "metadata": {},
   "outputs": [
    {
     "name": "stderr",
     "output_type": "stream",
     "text": [
      "C:\\Users\\Sona\\AppData\\Local\\Temp/ipykernel_10468/2471140536.py:3: DeprecationWarning: Conversion of an array with ndim > 0 to a scalar is deprecated, and will error in future. Ensure you extract a single element from your array before performing this operation. (Deprecated NumPy 1.25.)\n",
      "  dem1=list(map(int,dem))\n"
     ]
    },
    {
     "data": {
      "text/plain": [
       "(1125,)"
      ]
     },
     "execution_count": 2,
     "metadata": {},
     "output_type": "execute_result"
    }
   ],
   "source": [
    "# mean=45,sd=6,time=3 years 1 month   days\n",
    "dem=random.normal(loc=45,scale=6,size=(1125,1))\n",
    "dem1=list(map(int,dem))\n",
    "dem1=np.array(dem1)\n",
    "dem1.shape"
   ]
  },
  {
   "cell_type": "code",
   "execution_count": 3,
   "id": "7e8c33e3",
   "metadata": {},
   "outputs": [
    {
     "data": {
      "text/plain": [
       "<seaborn.axisgrid.FacetGrid at 0x2bc084577c0>"
      ]
     },
     "execution_count": 3,
     "metadata": {},
     "output_type": "execute_result"
    },
    {
     "data": {
      "image/png": "[encoded data removed]",
      "text/plain": [
       "<Figure size 360x360 with 1 Axes>"
      ]
     },
     "metadata": {
      "needs_background": "light"
     },
     "output_type": "display_data"
    }
   ],
   "source": [
    "%matplotlib inline\n",
    "sns.displot(dem1,kde=True)"
   ]
  },
  {
   "cell_type": "code",
   "execution_count": 4,
   "id": "f8207aa5",
   "metadata": {},
   "outputs": [],
   "source": [
    "prd=[45,45,45]\n",
    "ed=[45,45,45]\n",
    "prd[1],prd[2]=int(math.ceil((dem1[0]+dem1[1])/2)),int(math.ceil((dem1[0]+dem1[1]+dem1[2])/3))"
   ]
  },
  {
   "cell_type": "code",
   "execution_count": 5,
   "id": "a0809e7e",
   "metadata": {},
   "outputs": [],
   "source": [
    "for i in range(3,len(dem1)):\n",
    "    prd.append(int(math.ceil((dem1[i]+dem1[i-1]+dem1[i-2])/3)))\n",
    "    ed.append(int(math.ceil((dem1[i]+dem1[i-1]+dem1[i-2])/3)))"
   ]
  },
  {
   "cell_type": "code",
   "execution_count": 6,
   "id": "bc98943f",
   "metadata": {},
   "outputs": [],
   "source": [
    "day=[i for i in range(1,len(dem1)+1)]"
   ]
  },
  {
   "cell_type": "code",
   "execution_count": 7,
   "id": "c161ba03",
   "metadata": {},
   "outputs": [],
   "source": [
    "fn=lambda a,b:a-b if a-b>0 else 0"
   ]
  },
  {
   "cell_type": "code",
   "execution_count": 8,
   "id": "4b2272d2",
   "metadata": {},
   "outputs": [],
   "source": [
    "tot_d=[dem1[0]]\n",
    "tot_q=[prd[0]]\n",
    "end_inv=[fn(tot_q[0],tot_d[0])]\n",
    "shrt=[fn(tot_d[0],tot_q[0])]"
   ]
  },
  {
   "cell_type": "code",
   "execution_count": 9,
   "id": "02427a9a",
   "metadata": {},
   "outputs": [],
   "source": [
    "for i in range(1,len(dem1)):\n",
    "    tot_d.append(dem1[i]+shrt[i-1])\n",
    "    prd[i]=prd[i]-end_inv[i-1]+0####\n",
    "    #prd[i]=prd[i]-end_inv[i-1]+3# +3 extra production than estimated demand to reduce backorders\n",
    "    tot_q.append(prd[i]+end_inv[i-1])\n",
    "    if tot_q[i]>50:# distribution capacity is 50\n",
    "        shrt.append(fn(tot_d[i],50))\n",
    "        if tot_d[i]>50:\n",
    "            u=tot_q[i]-50\n",
    "        else:\n",
    "            u=tot_q[i]-tot_d[i]\n",
    "        end_inv.append(u)\n",
    "    else:\n",
    "        end_inv.append(fn(tot_q[i],tot_d[i]))\n",
    "        shrt.append(fn(tot_d[i],tot_q[i]))"
   ]
  },
  {
   "cell_type": "code",
   "execution_count": 10,
   "id": "c554e7da",
   "metadata": {},
   "outputs": [],
   "source": [
    "d={\"Day\":day,\"estimated_demand\":ed,\"Production_Quantity\":prd,\"Quantity_available\":tot_q,\"Daily_Demand\":dem1,\"Demand_with_Backorders\":tot_d}"
   ]
  },
  {
   "cell_type": "code",
   "execution_count": 11,
   "id": "2b5810cc",
   "metadata": {},
   "outputs": [],
   "source": [
    "df=pd.DataFrame(d)"
   ]
  },
  {
   "cell_type": "code",
   "execution_count": 12,
   "id": "c9785453",
   "metadata": {},
   "outputs": [
    {
     "data": {
      "text/html": [
       "<div>\n",
       "<style scoped>\n",
       "    .dataframe tbody tr th:only-of-type {\n",
       "        vertical-align: middle;\n",
       "    }\n",
       "\n",
       "    .dataframe tbody tr th {\n",
       "        vertical-align: top;\n",
       "    }\n",
       "\n",
       "    .dataframe thead th {\n",
       "        text-align: right;\n",
       "    }\n",
       "</style>\n",
       "<table border=\"1\" class=\"dataframe\">\n",
       "  <thead>\n",
       "    <tr style=\"text-align: right;\">\n",
       "      <th></th>\n",
       "      <th>Day</th>\n",
       "      <th>estimated_demand</th>\n",
       "      <th>Production_Quantity</th>\n",
       "      <th>Quantity_available</th>\n",
       "      <th>Daily_Demand</th>\n",
       "      <th>Demand_with_Backorders</th>\n",
       "    </tr>\n",
       "  </thead>\n",
       "  <tbody>\n",
       "    <tr>\n",
       "      <th>1120</th>\n",
       "      <td>1121</td>\n",
       "      <td>45</td>\n",
       "      <td>45</td>\n",
       "      <td>45</td>\n",
       "      <td>43</td>\n",
       "      <td>52</td>\n",
       "    </tr>\n",
       "    <tr>\n",
       "      <th>1121</th>\n",
       "      <td>1122</td>\n",
       "      <td>46</td>\n",
       "      <td>46</td>\n",
       "      <td>46</td>\n",
       "      <td>43</td>\n",
       "      <td>50</td>\n",
       "    </tr>\n",
       "    <tr>\n",
       "      <th>1122</th>\n",
       "      <td>1123</td>\n",
       "      <td>44</td>\n",
       "      <td>44</td>\n",
       "      <td>44</td>\n",
       "      <td>45</td>\n",
       "      <td>49</td>\n",
       "    </tr>\n",
       "    <tr>\n",
       "      <th>1123</th>\n",
       "      <td>1124</td>\n",
       "      <td>42</td>\n",
       "      <td>42</td>\n",
       "      <td>42</td>\n",
       "      <td>38</td>\n",
       "      <td>43</td>\n",
       "    </tr>\n",
       "    <tr>\n",
       "      <th>1124</th>\n",
       "      <td>1125</td>\n",
       "      <td>42</td>\n",
       "      <td>42</td>\n",
       "      <td>42</td>\n",
       "      <td>43</td>\n",
       "      <td>44</td>\n",
       "    </tr>\n",
       "  </tbody>\n",
       "</table>\n",
       "</div>"
      ],
      "text/plain": [
       "       Day  estimated_demand  Production_Quantity  Quantity_available  \\\n",
       "1120  1121                45                   45                  45   \n",
       "1121  1122                46                   46                  46   \n",
       "1122  1123                44                   44                  44   \n",
       "1123  1124                42                   42                  42   \n",
       "1124  1125                42                   42                  42   \n",
       "\n",
       "      Daily_Demand  Demand_with_Backorders  \n",
       "1120            43                      52  \n",
       "1121            43                      50  \n",
       "1122            45                      49  \n",
       "1123            38                      43  \n",
       "1124            43                      44  "
      ]
     },
     "execution_count": 12,
     "metadata": {},
     "output_type": "execute_result"
    }
   ],
   "source": [
    "df.tail()"
   ]
  },
  {
   "cell_type": "code",
   "execution_count": 13,
   "id": "e2deda59",
   "metadata": {},
   "outputs": [
    {
     "data": {
      "text/plain": [
       "(1125, 6)"
      ]
     },
     "execution_count": 13,
     "metadata": {},
     "output_type": "execute_result"
    }
   ],
   "source": [
    "df.shape"
   ]
  },
  {
   "cell_type": "code",
   "execution_count": 14,
   "id": "aeca1dc3",
   "metadata": {},
   "outputs": [],
   "source": [
    "#df[\"estimated_demand\"]=ed\n",
    "df[\"End_Inventory\"]=end_inv\n",
    "df[\"inventory_Carrying_Cost\"]=df[\"End_Inventory\"]*5\n",
    "df[\"Backorders\"]=shrt\n",
    "df[\"backorder_Cost\"]=df[\"Backorders\"]*10"
   ]
  },
  {
   "cell_type": "code",
   "execution_count": 15,
   "id": "f7bdf2f0",
   "metadata": {},
   "outputs": [],
   "source": [
    "df[\"Backordered\"]=df.Backorders.apply(lambda x:0 if x==0 else 1)"
   ]
  },
  {
   "cell_type": "code",
   "execution_count": 16,
   "id": "2f5c0c42",
   "metadata": {},
   "outputs": [
    {
     "data": {
      "text/html": [
       "<div>\n",
       "<style scoped>\n",
       "    .dataframe tbody tr th:only-of-type {\n",
       "        vertical-align: middle;\n",
       "    }\n",
       "\n",
       "    .dataframe tbody tr th {\n",
       "        vertical-align: top;\n",
       "    }\n",
       "\n",
       "    .dataframe thead th {\n",
       "        text-align: right;\n",
       "    }\n",
       "</style>\n",
       "<table border=\"1\" class=\"dataframe\">\n",
       "  <thead>\n",
       "    <tr style=\"text-align: right;\">\n",
       "      <th></th>\n",
       "      <th>Day</th>\n",
       "      <th>estimated_demand</th>\n",
       "      <th>Production_Quantity</th>\n",
       "      <th>Quantity_available</th>\n",
       "      <th>Daily_Demand</th>\n",
       "      <th>Demand_with_Backorders</th>\n",
       "      <th>End_Inventory</th>\n",
       "      <th>inventory_Carrying_Cost</th>\n",
       "      <th>Backorders</th>\n",
       "      <th>backorder_Cost</th>\n",
       "      <th>Backordered</th>\n",
       "    </tr>\n",
       "  </thead>\n",
       "  <tbody>\n",
       "    <tr>\n",
       "      <th>1120</th>\n",
       "      <td>1121</td>\n",
       "      <td>45</td>\n",
       "      <td>45</td>\n",
       "      <td>45</td>\n",
       "      <td>43</td>\n",
       "      <td>52</td>\n",
       "      <td>0</td>\n",
       "      <td>0</td>\n",
       "      <td>7</td>\n",
       "      <td>70</td>\n",
       "      <td>1</td>\n",
       "    </tr>\n",
       "    <tr>\n",
       "      <th>1121</th>\n",
       "      <td>1122</td>\n",
       "      <td>46</td>\n",
       "      <td>46</td>\n",
       "      <td>46</td>\n",
       "      <td>43</td>\n",
       "      <td>50</td>\n",
       "      <td>0</td>\n",
       "      <td>0</td>\n",
       "      <td>4</td>\n",
       "      <td>40</td>\n",
       "      <td>1</td>\n",
       "    </tr>\n",
       "    <tr>\n",
       "      <th>1122</th>\n",
       "      <td>1123</td>\n",
       "      <td>44</td>\n",
       "      <td>44</td>\n",
       "      <td>44</td>\n",
       "      <td>45</td>\n",
       "      <td>49</td>\n",
       "      <td>0</td>\n",
       "      <td>0</td>\n",
       "      <td>5</td>\n",
       "      <td>50</td>\n",
       "      <td>1</td>\n",
       "    </tr>\n",
       "    <tr>\n",
       "      <th>1123</th>\n",
       "      <td>1124</td>\n",
       "      <td>42</td>\n",
       "      <td>42</td>\n",
       "      <td>42</td>\n",
       "      <td>38</td>\n",
       "      <td>43</td>\n",
       "      <td>0</td>\n",
       "      <td>0</td>\n",
       "      <td>1</td>\n",
       "      <td>10</td>\n",
       "      <td>1</td>\n",
       "    </tr>\n",
       "    <tr>\n",
       "      <th>1124</th>\n",
       "      <td>1125</td>\n",
       "      <td>42</td>\n",
       "      <td>42</td>\n",
       "      <td>42</td>\n",
       "      <td>43</td>\n",
       "      <td>44</td>\n",
       "      <td>0</td>\n",
       "      <td>0</td>\n",
       "      <td>2</td>\n",
       "      <td>20</td>\n",
       "      <td>1</td>\n",
       "    </tr>\n",
       "  </tbody>\n",
       "</table>\n",
       "</div>"
      ],
      "text/plain": [
       "       Day  estimated_demand  Production_Quantity  Quantity_available  \\\n",
       "1120  1121                45                   45                  45   \n",
       "1121  1122                46                   46                  46   \n",
       "1122  1123                44                   44                  44   \n",
       "1123  1124                42                   42                  42   \n",
       "1124  1125                42                   42                  42   \n",
       "\n",
       "      Daily_Demand  Demand_with_Backorders  End_Inventory  \\\n",
       "1120            43                      52              0   \n",
       "1121            43                      50              0   \n",
       "1122            45                      49              0   \n",
       "1123            38                      43              0   \n",
       "1124            43                      44              0   \n",
       "\n",
       "      inventory_Carrying_Cost  Backorders  backorder_Cost  Backordered  \n",
       "1120                        0           7              70            1  \n",
       "1121                        0           4              40            1  \n",
       "1122                        0           5              50            1  \n",
       "1123                        0           1              10            1  \n",
       "1124                        0           2              20            1  "
      ]
     },
     "execution_count": 16,
     "metadata": {},
     "output_type": "execute_result"
    }
   ],
   "source": [
    "df.tail()"
   ]
  },
  {
   "cell_type": "code",
   "execution_count": 49,
   "id": "9e8584c1",
   "metadata": {},
   "outputs": [
    {
     "data": {
      "text/plain": [
       "(1125, 11)"
      ]
     },
     "execution_count": 49,
     "metadata": {},
     "output_type": "execute_result"
    }
   ],
   "source": [
    "df.shape"
   ]
  },
  {
   "cell_type": "code",
   "execution_count": 50,
   "id": "112b5c0b",
   "metadata": {},
   "outputs": [],
   "source": [
    "u=list(df[\"Backorders\"])\n",
    "v=[0]\n",
    "for i in range(len(u)-1):\n",
    "    v.append(u[i])\n",
    "df[\"backorder_demand\"]=v"
   ]
  },
  {
   "cell_type": "code",
   "execution_count": 51,
   "id": "dfa8955b",
   "metadata": {},
   "outputs": [],
   "source": [
    "df5=df.loc[:,[\"Day\",\"estimated_demand\",\"backorder_demand\",\"Production_Quantity\",\"Quantity_available\",\"Daily_Demand\",\"Demand_with_Backorders\",\"End_Inventory\",\"inventory_Carrying_Cost\",\"Backorders\",\"backorder_Cost\",\"Backordered\"]]"
   ]
  },
  {
   "cell_type": "code",
   "execution_count": 52,
   "id": "dfc85b09",
   "metadata": {},
   "outputs": [],
   "source": [
    "#df5.to_csv('back_0.csv',index=False)# importing file as csv file"
   ]
  },
  {
   "cell_type": "code",
   "execution_count": 53,
   "id": "3baf5c25",
   "metadata": {},
   "outputs": [],
   "source": [
    "df = df.rename(columns={'Shortag_Cost':'backorder_cost'})"
   ]
  },
  {
   "cell_type": "code",
   "execution_count": 54,
   "id": "994af9b1",
   "metadata": {},
   "outputs": [
    {
     "data": {
      "text/html": [
       "<div>\n",
       "<style scoped>\n",
       "    .dataframe tbody tr th:only-of-type {\n",
       "        vertical-align: middle;\n",
       "    }\n",
       "\n",
       "    .dataframe tbody tr th {\n",
       "        vertical-align: top;\n",
       "    }\n",
       "\n",
       "    .dataframe thead th {\n",
       "        text-align: right;\n",
       "    }\n",
       "</style>\n",
       "<table border=\"1\" class=\"dataframe\">\n",
       "  <thead>\n",
       "    <tr style=\"text-align: right;\">\n",
       "      <th></th>\n",
       "      <th>Day</th>\n",
       "      <th>estimated_demand</th>\n",
       "      <th>Production_Quantity</th>\n",
       "      <th>Quantity_available</th>\n",
       "      <th>Daily_Demand</th>\n",
       "      <th>Demand_with_Backorders</th>\n",
       "      <th>End_Inventory</th>\n",
       "      <th>inventory_Carrying_Cost</th>\n",
       "      <th>Backorders</th>\n",
       "      <th>backorder_Cost</th>\n",
       "      <th>Backordered</th>\n",
       "      <th>backorder_demand</th>\n",
       "    </tr>\n",
       "  </thead>\n",
       "  <tbody>\n",
       "    <tr>\n",
       "      <th>1120</th>\n",
       "      <td>1121</td>\n",
       "      <td>43</td>\n",
       "      <td>43</td>\n",
       "      <td>43</td>\n",
       "      <td>38</td>\n",
       "      <td>42</td>\n",
       "      <td>1</td>\n",
       "      <td>5</td>\n",
       "      <td>0</td>\n",
       "      <td>0</td>\n",
       "      <td>0</td>\n",
       "      <td>4</td>\n",
       "    </tr>\n",
       "    <tr>\n",
       "      <th>1121</th>\n",
       "      <td>1122</td>\n",
       "      <td>42</td>\n",
       "      <td>41</td>\n",
       "      <td>42</td>\n",
       "      <td>47</td>\n",
       "      <td>47</td>\n",
       "      <td>0</td>\n",
       "      <td>0</td>\n",
       "      <td>5</td>\n",
       "      <td>50</td>\n",
       "      <td>1</td>\n",
       "      <td>0</td>\n",
       "    </tr>\n",
       "    <tr>\n",
       "      <th>1122</th>\n",
       "      <td>1123</td>\n",
       "      <td>42</td>\n",
       "      <td>42</td>\n",
       "      <td>42</td>\n",
       "      <td>40</td>\n",
       "      <td>45</td>\n",
       "      <td>0</td>\n",
       "      <td>0</td>\n",
       "      <td>3</td>\n",
       "      <td>30</td>\n",
       "      <td>1</td>\n",
       "      <td>5</td>\n",
       "    </tr>\n",
       "    <tr>\n",
       "      <th>1123</th>\n",
       "      <td>1124</td>\n",
       "      <td>44</td>\n",
       "      <td>44</td>\n",
       "      <td>44</td>\n",
       "      <td>43</td>\n",
       "      <td>46</td>\n",
       "      <td>0</td>\n",
       "      <td>0</td>\n",
       "      <td>2</td>\n",
       "      <td>20</td>\n",
       "      <td>1</td>\n",
       "      <td>3</td>\n",
       "    </tr>\n",
       "    <tr>\n",
       "      <th>1124</th>\n",
       "      <td>1125</td>\n",
       "      <td>43</td>\n",
       "      <td>43</td>\n",
       "      <td>43</td>\n",
       "      <td>44</td>\n",
       "      <td>46</td>\n",
       "      <td>0</td>\n",
       "      <td>0</td>\n",
       "      <td>3</td>\n",
       "      <td>30</td>\n",
       "      <td>1</td>\n",
       "      <td>2</td>\n",
       "    </tr>\n",
       "  </tbody>\n",
       "</table>\n",
       "</div>"
      ],
      "text/plain": [
       "       Day  estimated_demand  Production_Quantity  Quantity_available  \\\n",
       "1120  1121                43                   43                  43   \n",
       "1121  1122                42                   41                  42   \n",
       "1122  1123                42                   42                  42   \n",
       "1123  1124                44                   44                  44   \n",
       "1124  1125                43                   43                  43   \n",
       "\n",
       "      Daily_Demand  Demand_with_Backorders  End_Inventory  \\\n",
       "1120            38                      42              1   \n",
       "1121            47                      47              0   \n",
       "1122            40                      45              0   \n",
       "1123            43                      46              0   \n",
       "1124            44                      46              0   \n",
       "\n",
       "      inventory_Carrying_Cost  Backorders  backorder_Cost  Backordered  \\\n",
       "1120                        5           0               0            0   \n",
       "1121                        0           5              50            1   \n",
       "1122                        0           3              30            1   \n",
       "1123                        0           2              20            1   \n",
       "1124                        0           3              30            1   \n",
       "\n",
       "      backorder_demand  \n",
       "1120                 4  \n",
       "1121                 0  \n",
       "1122                 5  \n",
       "1123                 3  \n",
       "1124                 2  "
      ]
     },
     "execution_count": 54,
     "metadata": {},
     "output_type": "execute_result"
    }
   ],
   "source": [
    "df.tail()"
   ]
  },
  {
   "cell_type": "code",
   "execution_count": 55,
   "id": "3f41510b",
   "metadata": {},
   "outputs": [],
   "source": [
    "arr1=[0,1,2,3,4,5,6,7,8,9,10]# extra production\n",
    "arr2=[712365,397310,332970,325115,346015,371735,422080,466010,500055,561225,612855]# total costs"
   ]
  },
  {
   "cell_type": "code",
   "execution_count": 56,
   "id": "64c1bf8f",
   "metadata": {},
   "outputs": [
    {
     "data": {
      "text/plain": [
       "Text(0, 0.5, 'Total cost')"
      ]
     },
     "execution_count": 56,
     "metadata": {},
     "output_type": "execute_result"
    },
    {
     "data": {
      "image/png": "[encoded data removed]",
      "text/plain": [
       "<Figure size 432x288 with 1 Axes>"
      ]
     },
     "metadata": {
      "needs_background": "light"
     },
     "output_type": "display_data"
    }
   ],
   "source": [
    "sns.barplot(x=arr1,y=arr2)\n",
    "plt.xlabel(\"Extra production quantity\")\n",
    "plt.ylabel(\"Total cost\")\n",
    "# extra production 3 got least total cost"
   ]
  },
  {
   "cell_type": "code",
   "execution_count": null,
   "id": "4638ceae",
   "metadata": {},
   "outputs": [],
   "source": []
  },
  {
   "cell_type": "code",
   "execution_count": null,
   "id": "5b53f9ae",
   "metadata": {},
   "outputs": [],
   "source": []
  }
 ],
 "metadata": {
  "kernelspec": {
   "display_name": "Python 3 (ipykernel)",
   "language": "python",
   "name": "python3"
  },
  "language_info": {
   "codemirror_mode": {
    "name": "ipython",
    "version": 3
   },
   "file_extension": ".py",
   "mimetype": "text/x-python",
   "name": "python",
   "nbconvert_exporter": "python",
   "pygments_lexer": "ipython3",
   "version": "3.9.7"
  }
 },
 "nbformat": 4,
 "nbformat_minor": 5
}
