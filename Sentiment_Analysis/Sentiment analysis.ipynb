{
 "cells": [
  {
   "cell_type": "code",
   "execution_count": 33,
   "id": "21bc25dd",
   "metadata": {},
   "outputs": [],
   "source": [
    "import pandas as pd\n",
    "import requests\n",
    "from bs4 import BeautifulSoup\n",
    "from textblob import TextBlob\n",
    "import nltk\n",
    "from nltk.corpus import stopwords\n",
    "import re\n",
    "from nltk.tokenize import word_tokenize, sent_tokenize"
   ]
  },
  {
   "cell_type": "code",
   "execution_count": 2,
   "id": "c8efec69",
   "metadata": {},
   "outputs": [],
   "source": [
    "def scrape_article(url):\n",
    "    try:\n",
    "        response = requests.get(url)\n",
    "        if response.status_code == 200:\n",
    "            soup = BeautifulSoup(response.content, \"html.parser\")\n",
    "            article_title = soup.find(\"h1\").get_text().strip()\n",
    "            paras = soup.find_all(\"p\")\n",
    "            article_text = \"\".join(para.get_text().strip() for para in paras)\n",
    "            return article_title, article_text\n",
    "    except Exeption as e:\n",
    "        print(f\"Error while scraping {url}: {e}\")\n",
    "    return None, None"
   ]
  },
  {
   "cell_type": "code",
   "execution_count": 3,
   "id": "9fd69acf",
   "metadata": {},
   "outputs": [],
   "source": [
    "stop_words = set(\"stopwords\")"
   ]
  },
  {
   "cell_type": "code",
   "execution_count": 4,
   "id": "fe6d61c3",
   "metadata": {},
   "outputs": [],
   "source": [
    "with open(\"MasterDictionary/positive-words.txt\",\"r\") as file:\n",
    "    positive_words = set(word.strip() for word in file.readlines() if word.strip() not in stop_words)"
   ]
  },
  {
   "cell_type": "code",
   "execution_count": 5,
   "id": "5d5dbfea",
   "metadata": {},
   "outputs": [],
   "source": [
    "with open(\"MasterDictionary/negative-words.txt\",\"r\") as file:\n",
    "    negative_words = set(word.strip() for word in file.readlines() if word.strip() not in stop_words)"
   ]
  },
  {
   "cell_type": "code",
   "execution_count": 6,
   "id": "f3f73e41",
   "metadata": {},
   "outputs": [],
   "source": [
    "df_input = pd.read_excel(\"input.xlsx\")"
   ]
  },
  {
   "cell_type": "code",
   "execution_count": 7,
   "id": "6285b2bc",
   "metadata": {},
   "outputs": [
    {
     "data": {
      "text/html": [
       "<div>\n",
       "<style scoped>\n",
       "    .dataframe tbody tr th:only-of-type {\n",
       "        vertical-align: middle;\n",
       "    }\n",
       "\n",
       "    .dataframe tbody tr th {\n",
       "        vertical-align: top;\n",
       "    }\n",
       "\n",
       "    .dataframe thead th {\n",
       "        text-align: right;\n",
       "    }\n",
       "</style>\n",
       "<table border=\"1\" class=\"dataframe\">\n",
       "  <thead>\n",
       "    <tr style=\"text-align: right;\">\n",
       "      <th></th>\n",
       "      <th>URL_ID</th>\n",
       "      <th>URL</th>\n",
       "    </tr>\n",
       "  </thead>\n",
       "  <tbody>\n",
       "    <tr>\n",
       "      <th>0</th>\n",
       "      <td>123.0</td>\n",
       "      <td>https://insights.blackcoffer.com/rise-of-telem...</td>\n",
       "    </tr>\n",
       "    <tr>\n",
       "      <th>1</th>\n",
       "      <td>321.0</td>\n",
       "      <td>https://insights.blackcoffer.com/rise-of-e-hea...</td>\n",
       "    </tr>\n",
       "    <tr>\n",
       "      <th>2</th>\n",
       "      <td>2345.0</td>\n",
       "      <td>https://insights.blackcoffer.com/rise-of-e-hea...</td>\n",
       "    </tr>\n",
       "    <tr>\n",
       "      <th>3</th>\n",
       "      <td>4321.0</td>\n",
       "      <td>https://insights.blackcoffer.com/rise-of-telem...</td>\n",
       "    </tr>\n",
       "    <tr>\n",
       "      <th>4</th>\n",
       "      <td>432.0</td>\n",
       "      <td>https://insights.blackcoffer.com/rise-of-telem...</td>\n",
       "    </tr>\n",
       "  </tbody>\n",
       "</table>\n",
       "</div>"
      ],
      "text/plain": [
       "   URL_ID                                                URL\n",
       "0   123.0  https://insights.blackcoffer.com/rise-of-telem...\n",
       "1   321.0  https://insights.blackcoffer.com/rise-of-e-hea...\n",
       "2  2345.0  https://insights.blackcoffer.com/rise-of-e-hea...\n",
       "3  4321.0  https://insights.blackcoffer.com/rise-of-telem...\n",
       "4   432.0  https://insights.blackcoffer.com/rise-of-telem..."
      ]
     },
     "execution_count": 7,
     "metadata": {},
     "output_type": "execute_result"
    }
   ],
   "source": [
    "df_input.head()"
   ]
  },
  {
   "cell_type": "code",
   "execution_count": 8,
   "id": "f75edc33",
   "metadata": {},
   "outputs": [],
   "source": [
    "for index, row in df_input.iterrows():\n",
    "    url_id = int(row[\"URL_ID\"])\n",
    "    url = row[\"URL\"]\n",
    "    article_title, article_text = scrape_article(url)\n",
    "    if article_text:\n",
    "        with open(f\"{url_id}.txt\", \"w\", encoding= \"utf-8\") as f:\n",
    "            f.write(article_text)\n",
    "        df_input.loc[index, \"ARTICLE_TITLE\"] = article_title\n",
    "        df_input.loc[index, \"ARTICLE_FILE\"] = f\"{url_id}.txt\"\n",
    "    else:\n",
    "        df_input.loc[index, \"ARTICLE_TITLE\"] = \"\"\n",
    "        df_input.loc[index, \"ARTICLE_FILE\"] = \"\""
   ]
  },
  {
   "cell_type": "code",
   "execution_count": 9,
   "id": "75a38bdc",
   "metadata": {},
   "outputs": [
    {
     "data": {
      "text/html": [
       "<div>\n",
       "<style scoped>\n",
       "    .dataframe tbody tr th:only-of-type {\n",
       "        vertical-align: middle;\n",
       "    }\n",
       "\n",
       "    .dataframe tbody tr th {\n",
       "        vertical-align: top;\n",
       "    }\n",
       "\n",
       "    .dataframe thead th {\n",
       "        text-align: right;\n",
       "    }\n",
       "</style>\n",
       "<table border=\"1\" class=\"dataframe\">\n",
       "  <thead>\n",
       "    <tr style=\"text-align: right;\">\n",
       "      <th></th>\n",
       "      <th>URL_ID</th>\n",
       "      <th>URL</th>\n",
       "      <th>ARTICLE_TITLE</th>\n",
       "      <th>ARTICLE_FILE</th>\n",
       "    </tr>\n",
       "  </thead>\n",
       "  <tbody>\n",
       "    <tr>\n",
       "      <th>0</th>\n",
       "      <td>123.0</td>\n",
       "      <td>https://insights.blackcoffer.com/rise-of-telem...</td>\n",
       "      <td>Rise of telemedicine and its Impact on Livelih...</td>\n",
       "      <td>123.txt</td>\n",
       "    </tr>\n",
       "    <tr>\n",
       "      <th>1</th>\n",
       "      <td>321.0</td>\n",
       "      <td>https://insights.blackcoffer.com/rise-of-e-hea...</td>\n",
       "      <td>Rise of e-health and its impact on humans by t...</td>\n",
       "      <td>321.txt</td>\n",
       "    </tr>\n",
       "    <tr>\n",
       "      <th>2</th>\n",
       "      <td>2345.0</td>\n",
       "      <td>https://insights.blackcoffer.com/rise-of-e-hea...</td>\n",
       "      <td>Rise of e-health and its impact on humans by t...</td>\n",
       "      <td>2345.txt</td>\n",
       "    </tr>\n",
       "    <tr>\n",
       "      <th>3</th>\n",
       "      <td>4321.0</td>\n",
       "      <td>https://insights.blackcoffer.com/rise-of-telem...</td>\n",
       "      <td>Rise of telemedicine and its Impact on Livelih...</td>\n",
       "      <td>4321.txt</td>\n",
       "    </tr>\n",
       "    <tr>\n",
       "      <th>4</th>\n",
       "      <td>432.0</td>\n",
       "      <td>https://insights.blackcoffer.com/rise-of-telem...</td>\n",
       "      <td>Rise of telemedicine and its Impact on Livelih...</td>\n",
       "      <td>432.txt</td>\n",
       "    </tr>\n",
       "  </tbody>\n",
       "</table>\n",
       "</div>"
      ],
      "text/plain": [
       "   URL_ID                                                URL  \\\n",
       "0   123.0  https://insights.blackcoffer.com/rise-of-telem...   \n",
       "1   321.0  https://insights.blackcoffer.com/rise-of-e-hea...   \n",
       "2  2345.0  https://insights.blackcoffer.com/rise-of-e-hea...   \n",
       "3  4321.0  https://insights.blackcoffer.com/rise-of-telem...   \n",
       "4   432.0  https://insights.blackcoffer.com/rise-of-telem...   \n",
       "\n",
       "                                       ARTICLE_TITLE ARTICLE_FILE  \n",
       "0  Rise of telemedicine and its Impact on Livelih...      123.txt  \n",
       "1  Rise of e-health and its impact on humans by t...      321.txt  \n",
       "2  Rise of e-health and its impact on humans by t...     2345.txt  \n",
       "3  Rise of telemedicine and its Impact on Livelih...     4321.txt  \n",
       "4  Rise of telemedicine and its Impact on Livelih...      432.txt  "
      ]
     },
     "execution_count": 9,
     "metadata": {},
     "output_type": "execute_result"
    }
   ],
   "source": [
    "df_input.head()"
   ]
  },
  {
   "cell_type": "code",
   "execution_count": 31,
   "id": "d2c41095",
   "metadata": {},
   "outputs": [],
   "source": [
    "def sentiment_scores(text):\n",
    "    blob = TextBlob(text)\n",
    "    positive_score = sum(1 for word in blob.words if word.lower() in positive_words)\n",
    "    negative_score = sum(1 for word in blob.words if word.lower() in negative_words)\n",
    "    polarity_score = (positive_score - negative_score) / (positive_score + negative_score + 0.000001)\n",
    "    subjectivity_score = (positive_score + negative_score) / (len(blob.words) + 0.000001)\n",
    "    return positive_score, negative_score, polarity_score, subjectivity_score"
   ]
  },
  {
   "cell_type": "code",
   "execution_count": 23,
   "id": "00c2f261",
   "metadata": {},
   "outputs": [],
   "source": [
    "def count_syllables(word):\n",
    "    vowels = 'aeiouyAEIOUY'\n",
    "    count = 0\n",
    "    for i in range(1, len(word)):\n",
    "        if word[i] in vowels and word[i - 1] not in vowels:\n",
    "            count += 1\n",
    "    if word.endswith('e'):\n",
    "        count -= 1\n",
    "    if count == 0:\n",
    "        count = 1\n",
    "    return count"
   ]
  },
  {
   "cell_type": "code",
   "execution_count": 24,
   "id": "5fd0eb09",
   "metadata": {},
   "outputs": [],
   "source": [
    "def average_word_length(text):\n",
    "    words = word_tokenize(text)\n",
    "    return sum(len(word) for word in words) / len(words)"
   ]
  },
  {
   "cell_type": "code",
   "execution_count": 25,
   "id": "4b4c66f8",
   "metadata": {},
   "outputs": [],
   "source": [
    "import os"
   ]
  },
  {
   "cell_type": "code",
   "execution_count": 54,
   "id": "98fe269a",
   "metadata": {},
   "outputs": [],
   "source": [
    "output_data = []"
   ]
  },
  {
   "cell_type": "code",
   "execution_count": 55,
   "id": "c5883b4f",
   "metadata": {},
   "outputs": [],
   "source": [
    "for index, row in df_input.iterrows():\n",
    "    article_file = row[\"ARTICLE_FILE\"]\n",
    "    if not article_file:\n",
    "        continue\n",
    "    if os.path.exists(article_file):\n",
    "        with open(article_file, \"r\", encoding=\"utf-8\") as f:\n",
    "            article_text = f.read()\n",
    "    else:\n",
    "        print(f\"File not found: {article_file}\")\n",
    "        continue\n",
    "    positive_score, negative_score, polarity_score, subjectivity_score = sentiment_scores(article_text)\n",
    "    sentences = sent_tokenize(article_text)\n",
    "    word_count = len(word_tokenize(article_text))\n",
    "    avg_sentence_length = word_count / len(sentences)\n",
    "    complex_word_count = sum(1 for word in word_tokenize(article_text) if count_syllables(word) > 2)\n",
    "    percentage_complex_words = complex_word_count / word_count\n",
    "    fog_index = 0.4 * (avg_sentence_length + percentage_complex_words)\n",
    "    avg_words_per_sentence = word_count / len(sentences)\n",
    "    syllables_per_word = sum(count_syllables(word) for word in word_tokenize(article_text)) / word_count\n",
    "    personal_pronouns = len(re.findall(r'\\b(I|we|my|ours|us)\\b', article_text, re.IGNORECASE))\n",
    "    avg_word_len = average_word_length(article_text)\n",
    "\n",
    "    output_data.append([row['URL_ID'], row['URL'], row['ARTICLE_TITLE'], positive_score, negative_score,\n",
    "                        polarity_score, subjectivity_score, avg_sentence_length, percentage_complex_words,\n",
    "                        fog_index, avg_words_per_sentence, complex_word_count, word_count, syllables_per_word,\n",
    "                        personal_pronouns, avg_word_len])"
   ]
  },
  {
   "cell_type": "code",
   "execution_count": 57,
   "id": "b4a4a4c2",
   "metadata": {},
   "outputs": [
    {
     "name": "stdout",
     "output_type": "stream",
     "text": [
      "[3817.4, 'https://insights.blackcoffer.com/how-does-marketing-influence-businesses-and-consumers/', 'How does marketing influence businesses and consumers?', 73, 9, 0.780487795359905, 0.043455219902779424, 28.930555555555557, 0.18098895823331734, 11.644617805515551, 28.930555555555557, 377, 2083, 1.6024963994239079, 7, 4.936149783965434]\n"
     ]
    }
   ],
   "source": [
    "print(output_data[7])"
   ]
  },
  {
   "cell_type": "code",
   "execution_count": 58,
   "id": "5d557214",
   "metadata": {},
   "outputs": [],
   "source": [
    "output_columns = ['URL_ID', 'URL', 'ARTICLE_TITLE', 'POSITIVE SCORE', 'NEGATIVE SCORE', 'POLARITY SCORE',\n",
    "                  'SUBJECTIVITY SCORE', 'AVG SENTENCE LENGTH', 'PERCENTAGE OF COMPLEX WORDS', 'FOG INDEX',\n",
    "                  'AVG NUMBER OF WORDS PER SENTENCE', 'COMPLEX WORD COUNT', 'WORD COUNT', 'SYLLABLE PER WORD',\n",
    "                  'PERSONAL PRONOUNS', 'AVG WORD LENGTH']"
   ]
  },
  {
   "cell_type": "code",
   "execution_count": 59,
   "id": "dad20f16",
   "metadata": {},
   "outputs": [],
   "source": [
    "df_output = pd.DataFrame(output_data, columns = output_columns)"
   ]
  },
  {
   "cell_type": "code",
   "execution_count": 60,
   "id": "08983830",
   "metadata": {},
   "outputs": [],
   "source": [
    "df_output.to_excel(\"output.xlsx\", index=False)"
   ]
  },
  {
   "cell_type": "code",
   "execution_count": null,
   "id": "9d2b7890",
   "metadata": {},
   "outputs": [],
   "source": []
  }
 ],
 "metadata": {
  "kernelspec": {
   "display_name": "Python 3 (ipykernel)",
   "language": "python",
   "name": "python3"
  },
  "language_info": {
   "codemirror_mode": {
    "name": "ipython",
    "version": 3
   },
   "file_extension": ".py",
   "mimetype": "text/x-python",
   "name": "python",
   "nbconvert_exporter": "python",
   "pygments_lexer": "ipython3",
   "version": "3.11.5"
  }
 },
 "nbformat": 4,
 "nbformat_minor": 5
}
